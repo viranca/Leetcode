{
 "cells": [
  {
   "cell_type": "code",
   "execution_count": 1,
   "metadata": {},
   "outputs": [
    {
     "name": "stdout",
     "output_type": "stream",
     "text": [
      "Linked List:\n",
      "1 -> 2 -> 3 -> 4 -> None\n"
     ]
    }
   ],
   "source": [
    "class Node:\n",
    "    def __init__(self, data):\n",
    "        self.data = data\n",
    "        self.next = None\n",
    "\n",
    "class LinkedList:\n",
    "    def __init__(self):\n",
    "        self.head = None\n",
    "    \n",
    "    def append(self, data):\n",
    "        new_node = Node(data)\n",
    "        \n",
    "        if self.head is None:\n",
    "            self.head = new_node\n",
    "            return\n",
    "            \n",
    "        current = self.head\n",
    "        while current.next:\n",
    "            current = current.next\n",
    "        current.next = new_node\n",
    "    \n",
    "    def print_list(self):\n",
    "        current = self.head\n",
    "        while current:\n",
    "            print(current.data, end=\" -> \")\n",
    "            current = current.next\n",
    "        print(\"None\")\n",
    "\n",
    "# Example usage\n",
    "if __name__ == \"__main__\":\n",
    "    # Create a new linked list\n",
    "    llist = LinkedList()\n",
    "    \n",
    "    # Append some elements\n",
    "    llist.append(1)\n",
    "    llist.append(2)\n",
    "    llist.append(3)\n",
    "    llist.append(4)\n",
    "    \n",
    "    # Print the linked list\n",
    "    print(\"Linked List:\")\n",
    "    llist.print_list()\n"
   ]
  },
  {
   "cell_type": "code",
   "execution_count": 2,
   "metadata": {},
   "outputs": [
    {
     "name": "stdout",
     "output_type": "stream",
     "text": [
      "Doubly Linked List:\n",
      "Forward: 1 <-> 2 <-> 3 <-> 4 <-> None\n",
      "Backward: 4 <-> 3 <-> 2 <-> 1 <-> None\n"
     ]
    }
   ],
   "source": [
    "class Node:\n",
    "    def __init__(self, data):\n",
    "        self.data = data\n",
    "        self.next = None\n",
    "        self.prev = None\n",
    "\n",
    "class DoublyLinkedList:\n",
    "    def __init__(self):\n",
    "        self.head = None\n",
    "    \n",
    "    def append(self, data):\n",
    "        new_node = Node(data)\n",
    "        \n",
    "        if self.head is None:\n",
    "            self.head = new_node\n",
    "            return\n",
    "            \n",
    "        current = self.head\n",
    "        while current.next:\n",
    "            current = current.next\n",
    "            \n",
    "        current.next = new_node\n",
    "        new_node.prev = current\n",
    "    \n",
    "    def print_list(self):\n",
    "        current = self.head\n",
    "        print(\"Forward:\", end=\" \")\n",
    "        while current:\n",
    "            print(current.data, end=\" <-> \")\n",
    "            last = current\n",
    "            current = current.next\n",
    "        print(\"None\")\n",
    "        \n",
    "        print(\"Backward:\", end=\" \")\n",
    "        while last:\n",
    "            print(last.data, end=\" <-> \")\n",
    "            last = last.prev\n",
    "        print(\"None\")\n",
    "\n",
    "# Example usage\n",
    "if __name__ == \"__main__\":\n",
    "    # Create a new doubly linked list\n",
    "    dllist = DoublyLinkedList()\n",
    "    \n",
    "    # Append some elements\n",
    "    dllist.append(1)\n",
    "    dllist.append(2)\n",
    "    dllist.append(3)\n",
    "    dllist.append(4)\n",
    "    \n",
    "    # Print the doubly linked list in both directions\n",
    "    print(\"Doubly Linked List:\")\n",
    "    dllist.print_list()\n"
   ]
  },
  {
   "cell_type": "code",
   "execution_count": 3,
   "metadata": {},
   "outputs": [
    {
     "name": "stdout",
     "output_type": "stream",
     "text": [
      "\n",
      "Creating a loop in linked list for demonstration:\n",
      "Created a loop: 1 <-> 2 <-> 3 <-> 4 <-> 2 ...\n",
      "Does the list have a loop? True\n",
      "Does the original list have a loop? False\n"
     ]
    }
   ],
   "source": [
    "# Create a looped linked list for demonstration\n",
    "print(\"\\nCreating a loop in linked list for demonstration:\")\n",
    "loop_list = DoublyLinkedList()\n",
    "\n",
    "# Add elements\n",
    "loop_list.append(1)\n",
    "loop_list.append(2)\n",
    "loop_list.append(3)\n",
    "loop_list.append(4)\n",
    "\n",
    "# Create a loop by connecting last node to second node\n",
    "current = loop_list.head\n",
    "while current.next:  # Go to last node\n",
    "    current = current.next\n",
    "    \n",
    "second_node = loop_list.head.next\n",
    "current.next = second_node  # Connect last node to second node\n",
    "second_node.prev = current  # Complete the doubly linked connection\n",
    "\n",
    "print(\"Created a loop: 1 <-> 2 <-> 3 <-> 4 <-> 2 ...\")\n",
    "\n",
    "# Detect if there's a loop\n",
    "def has_loop(llist):\n",
    "    if llist.head is None:\n",
    "        return False\n",
    "        \n",
    "    slow = llist.head\n",
    "    fast = llist.head\n",
    "    \n",
    "    while fast and fast.next:\n",
    "        slow = slow.next\n",
    "        fast = fast.next.next\n",
    "        if slow == fast:\n",
    "            return True\n",
    "            \n",
    "    return False\n",
    "\n",
    "# Test the loop detection\n",
    "print(f\"Does the list have a loop? {has_loop(loop_list)}\")\n",
    "print(f\"Does the original list have a loop? {has_loop(dllist)}\")\n"
   ]
  },
  {
   "cell_type": "code",
   "execution_count": null,
   "metadata": {},
   "outputs": [],
   "source": []
  }
 ],
 "metadata": {
  "kernelspec": {
   "display_name": "Python 3",
   "language": "python",
   "name": "python3"
  },
  "language_info": {
   "codemirror_mode": {
    "name": "ipython",
    "version": 3
   },
   "file_extension": ".py",
   "mimetype": "text/x-python",
   "name": "python",
   "nbconvert_exporter": "python",
   "pygments_lexer": "ipython3",
   "version": "3.11.9"
  }
 },
 "nbformat": 4,
 "nbformat_minor": 2
}

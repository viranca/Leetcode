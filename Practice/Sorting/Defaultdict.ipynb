{
 "cells": [
  {
   "cell_type": "code",
   "execution_count": 1,
   "metadata": {},
   "outputs": [
    {
     "name": "stdout",
     "output_type": "stream",
     "text": [
      "Word counts: {'the': 2, 'quick': 1, 'brown': 1, 'fox': 1, 'jumps': 1, 'over': 1, 'lazy': 1, 'dog': 1}\n",
      "Count of 'the': 2\n",
      "Count of 'fox': 1\n",
      "Count of 'missing': 0\n",
      "\n",
      "Grouped by even/odd:\n",
      "Even numbers: [2, 4, 6]\n",
      "Odd numbers: [1, 3, 5]\n",
      "\n",
      "Greetings:\n",
      "Hello, Alice!\n",
      "Hi, Bob!\n",
      "Hello, stranger!\n"
     ]
    }
   ],
   "source": [
    "from collections import defaultdict\n",
    "\n",
    "# Create a defaultdict that defaults to int (starts at 0)\n",
    "word_count = defaultdict(int)\n",
    "\n",
    "# Count words in a sentence\n",
    "sentence = \"the quick brown fox jumps over the lazy dog\"\n",
    "for word in sentence.split():\n",
    "    word_count[word] += 1\n",
    "\n",
    "print(\"Word counts:\", dict(word_count))  # Convert to regular dict for cleaner output\n",
    "print(f\"Count of 'the': {word_count['the']}\")\n",
    "print(f\"Count of 'fox': {word_count['fox']}\")\n",
    "print(f\"Count of 'missing': {word_count['missing']}\")  # Returns 0 instead of KeyError\n",
    "\n",
    "# defaultdict with list as default_factory\n",
    "grouped_numbers = defaultdict(list)\n",
    "numbers = [1, 2, 3, 4, 5, 6]\n",
    "\n",
    "for num in numbers:\n",
    "    grouped_numbers[num % 2].append(num)  # Group by even/odd\n",
    "\n",
    "print(\"\\nGrouped by even/odd:\")\n",
    "print(\"Even numbers:\", grouped_numbers[0])\n",
    "print(\"Odd numbers:\", grouped_numbers[1])\n",
    "\n",
    "# defaultdict with lambda function\n",
    "default_greeting = defaultdict(lambda: \"Hello, stranger!\")\n",
    "default_greeting[\"Alice\"] = \"Hello, Alice!\"\n",
    "default_greeting[\"Bob\"] = \"Hi, Bob!\"\n",
    "\n",
    "print(\"\\nGreetings:\")\n",
    "print(default_greeting[\"Alice\"])  # Custom greeting\n",
    "print(default_greeting[\"Bob\"])    # Custom greeting\n",
    "print(default_greeting[\"Carol\"])  # Default greeting\n"
   ]
  }
 ],
 "metadata": {
  "kernelspec": {
   "display_name": "Python 3",
   "language": "python",
   "name": "python3"
  },
  "language_info": {
   "codemirror_mode": {
    "name": "ipython",
    "version": 3
   },
   "file_extension": ".py",
   "mimetype": "text/x-python",
   "name": "python",
   "nbconvert_exporter": "python",
   "pygments_lexer": "ipython3",
   "version": "3.11.9"
  }
 },
 "nbformat": 4,
 "nbformat_minor": 2
}
